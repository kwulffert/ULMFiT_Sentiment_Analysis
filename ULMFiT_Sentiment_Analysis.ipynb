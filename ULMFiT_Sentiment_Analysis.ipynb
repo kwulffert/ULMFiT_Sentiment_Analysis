{
  "nbformat": 4,
  "nbformat_minor": 0,
  "metadata": {
    "hide_input": false,
    "kernelspec": {
      "display_name": "Python 3",
      "language": "python",
      "name": "python3"
    },
    "language_info": {
      "codemirror_mode": {
        "name": "ipython",
        "version": 3
      },
      "file_extension": ".py",
      "mimetype": "text/x-python",
      "name": "python",
      "nbconvert_exporter": "python",
      "pygments_lexer": "ipython3",
      "version": "3.8.2"
    },
    "colab": {
      "name": "ULMFiT_Sentiment_Analysis.ipynb",
      "provenance": []
    },
    "accelerator": "GPU"
  },
  "cells": [
    {
      "cell_type": "markdown",
      "metadata": {
        "id": "8GpE9h9YtqMr",
        "colab_type": "text"
      },
      "source": [
        "The notebook is divided in the following steps:\n",
        "\n",
        "* Import libraries\n",
        "* Data load and pre-processing\n",
        "* Text pre-processing\n",
        "* Universal Language Model Fine Tunning (ULMFiT) application\n",
        " * General-domain LM pretraining\n",
        " * Target task LM fine-tuning\n",
        " * Target task classifier fine-tuning\n",
        "* Analysis of results\n",
        "* Conclusions"
      ]
    },
    {
      "cell_type": "markdown",
      "metadata": {
        "id": "2WNIraGCtqMs",
        "colab_type": "text"
      },
      "source": [
        "## Import libraries"
      ]
    },
    {
      "cell_type": "code",
      "metadata": {
        "id": "psQZXRYZtqMt",
        "colab_type": "code",
        "colab": {}
      },
      "source": [
        "import re\n",
        "import pandas as pd\n",
        "import collections"
      ],
      "execution_count": 81,
      "outputs": []
    },
    {
      "cell_type": "code",
      "metadata": {
        "id": "dcD-Ms9yz4ZW",
        "colab_type": "code",
        "colab": {}
      },
      "source": [
        "from fastai.text import *"
      ],
      "execution_count": 5,
      "outputs": []
    },
    {
      "cell_type": "markdown",
      "metadata": {
        "id": "L__5Ouo2tqMw",
        "colab_type": "text"
      },
      "source": [
        "## Data load and pre-processing"
      ]
    },
    {
      "cell_type": "code",
      "metadata": {
        "id": "9OxJ3eveVBrb",
        "colab_type": "code",
        "colab": {
          "base_uri": "https://localhost:8080/",
          "height": 122
        },
        "outputId": "2925cd01-1d32-44c3-b937-38e799e60a5d"
      },
      "source": [
        "from google.colab import drive\n",
        "drive.mount('/content/gdrive')"
      ],
      "execution_count": 41,
      "outputs": [
        {
          "output_type": "stream",
          "text": [
            "Go to this URL in a browser: https://accounts.google.com/o/oauth2/auth?client_id=947318989803-6bn6qk8qdgf4n4g3pfee6491hc0brc4i.apps.googleusercontent.com&redirect_uri=urn%3aietf%3awg%3aoauth%3a2.0%3aoob&response_type=code&scope=email%20https%3a%2f%2fwww.googleapis.com%2fauth%2fdocs.test%20https%3a%2f%2fwww.googleapis.com%2fauth%2fdrive%20https%3a%2f%2fwww.googleapis.com%2fauth%2fdrive.photos.readonly%20https%3a%2f%2fwww.googleapis.com%2fauth%2fpeopleapi.readonly\n",
            "\n",
            "Enter your authorization code:\n",
            "··········\n",
            "Mounted at /content/gdrive\n"
          ],
          "name": "stdout"
        }
      ]
    },
    {
      "cell_type": "code",
      "metadata": {
        "id": "06oT_v_ztqMw",
        "colab_type": "code",
        "colab": {}
      },
      "source": [
        "# Load dataset with tweets into a dataframe\n",
        "#path = \"data/Tweets.csv\"\n",
        "#path = \"https://raw.githubusercontent.com/kwulffert/ULMFiT_Sentiment_Analysis/master/data/Tweets.csv?token=AI4NJNANKTNV52E4BUAC6JK7BQ7IW\"\n",
        "folder = os.path.join(\"/content/gdrive/My Drive/Colab Notebooks\" , \"model\")\n",
        "path = os.path.join(\"/content/gdrive/My Drive/Colab Notebooks/data\", \"Tweets.csv\")\n",
        "df = pd.read_csv(path)"
      ],
      "execution_count": 56,
      "outputs": []
    },
    {
      "cell_type": "code",
      "metadata": {
        "id": "d1L-eRk5tqM0",
        "colab_type": "code",
        "colab": {
          "base_uri": "https://localhost:8080/",
          "height": 598
        },
        "outputId": "2aa8e9b1-307e-4571-c1a4-4b8ec93f3a82"
      },
      "source": [
        "# First look at the first 5 rows of the dataset\n",
        "df.head()"
      ],
      "execution_count": 57,
      "outputs": [
        {
          "output_type": "execute_result",
          "data": {
            "text/html": [
              "<div>\n",
              "<style scoped>\n",
              "    .dataframe tbody tr th:only-of-type {\n",
              "        vertical-align: middle;\n",
              "    }\n",
              "\n",
              "    .dataframe tbody tr th {\n",
              "        vertical-align: top;\n",
              "    }\n",
              "\n",
              "    .dataframe thead th {\n",
              "        text-align: right;\n",
              "    }\n",
              "</style>\n",
              "<table border=\"1\" class=\"dataframe\">\n",
              "  <thead>\n",
              "    <tr style=\"text-align: right;\">\n",
              "      <th></th>\n",
              "      <th>tweet_id</th>\n",
              "      <th>airline_sentiment</th>\n",
              "      <th>airline_sentiment_confidence</th>\n",
              "      <th>negativereason</th>\n",
              "      <th>negativereason_confidence</th>\n",
              "      <th>airline</th>\n",
              "      <th>airline_sentiment_gold</th>\n",
              "      <th>name</th>\n",
              "      <th>negativereason_gold</th>\n",
              "      <th>retweet_count</th>\n",
              "      <th>text</th>\n",
              "      <th>tweet_coord</th>\n",
              "      <th>tweet_created</th>\n",
              "      <th>tweet_location</th>\n",
              "      <th>user_timezone</th>\n",
              "    </tr>\n",
              "  </thead>\n",
              "  <tbody>\n",
              "    <tr>\n",
              "      <th>0</th>\n",
              "      <td>570306133677760513</td>\n",
              "      <td>neutral</td>\n",
              "      <td>1.0000</td>\n",
              "      <td>NaN</td>\n",
              "      <td>NaN</td>\n",
              "      <td>Virgin America</td>\n",
              "      <td>NaN</td>\n",
              "      <td>cairdin</td>\n",
              "      <td>NaN</td>\n",
              "      <td>0</td>\n",
              "      <td>@VirginAmerica What @dhepburn said.</td>\n",
              "      <td>NaN</td>\n",
              "      <td>2015-02-24 11:35:52 -0800</td>\n",
              "      <td>NaN</td>\n",
              "      <td>Eastern Time (US &amp; Canada)</td>\n",
              "    </tr>\n",
              "    <tr>\n",
              "      <th>1</th>\n",
              "      <td>570301130888122368</td>\n",
              "      <td>positive</td>\n",
              "      <td>0.3486</td>\n",
              "      <td>NaN</td>\n",
              "      <td>0.0000</td>\n",
              "      <td>Virgin America</td>\n",
              "      <td>NaN</td>\n",
              "      <td>jnardino</td>\n",
              "      <td>NaN</td>\n",
              "      <td>0</td>\n",
              "      <td>@VirginAmerica plus you've added commercials to the experience... tacky.</td>\n",
              "      <td>NaN</td>\n",
              "      <td>2015-02-24 11:15:59 -0800</td>\n",
              "      <td>NaN</td>\n",
              "      <td>Pacific Time (US &amp; Canada)</td>\n",
              "    </tr>\n",
              "    <tr>\n",
              "      <th>2</th>\n",
              "      <td>570301083672813571</td>\n",
              "      <td>neutral</td>\n",
              "      <td>0.6837</td>\n",
              "      <td>NaN</td>\n",
              "      <td>NaN</td>\n",
              "      <td>Virgin America</td>\n",
              "      <td>NaN</td>\n",
              "      <td>yvonnalynn</td>\n",
              "      <td>NaN</td>\n",
              "      <td>0</td>\n",
              "      <td>@VirginAmerica I didn't today... Must mean I need to take another trip!</td>\n",
              "      <td>NaN</td>\n",
              "      <td>2015-02-24 11:15:48 -0800</td>\n",
              "      <td>Lets Play</td>\n",
              "      <td>Central Time (US &amp; Canada)</td>\n",
              "    </tr>\n",
              "    <tr>\n",
              "      <th>3</th>\n",
              "      <td>570301031407624196</td>\n",
              "      <td>negative</td>\n",
              "      <td>1.0000</td>\n",
              "      <td>Bad Flight</td>\n",
              "      <td>0.7033</td>\n",
              "      <td>Virgin America</td>\n",
              "      <td>NaN</td>\n",
              "      <td>jnardino</td>\n",
              "      <td>NaN</td>\n",
              "      <td>0</td>\n",
              "      <td>@VirginAmerica it's really aggressive to blast obnoxious \"entertainment\" in your guests' faces &amp;...</td>\n",
              "      <td>NaN</td>\n",
              "      <td>2015-02-24 11:15:36 -0800</td>\n",
              "      <td>NaN</td>\n",
              "      <td>Pacific Time (US &amp; Canada)</td>\n",
              "    </tr>\n",
              "    <tr>\n",
              "      <th>4</th>\n",
              "      <td>570300817074462722</td>\n",
              "      <td>negative</td>\n",
              "      <td>1.0000</td>\n",
              "      <td>Can't Tell</td>\n",
              "      <td>1.0000</td>\n",
              "      <td>Virgin America</td>\n",
              "      <td>NaN</td>\n",
              "      <td>jnardino</td>\n",
              "      <td>NaN</td>\n",
              "      <td>0</td>\n",
              "      <td>@VirginAmerica and it's a really big bad thing about it</td>\n",
              "      <td>NaN</td>\n",
              "      <td>2015-02-24 11:14:45 -0800</td>\n",
              "      <td>NaN</td>\n",
              "      <td>Pacific Time (US &amp; Canada)</td>\n",
              "    </tr>\n",
              "  </tbody>\n",
              "</table>\n",
              "</div>"
            ],
            "text/plain": [
              "             tweet_id  ...               user_timezone\n",
              "0  570306133677760513  ...  Eastern Time (US & Canada)\n",
              "1  570301130888122368  ...  Pacific Time (US & Canada)\n",
              "2  570301083672813571  ...  Central Time (US & Canada)\n",
              "3  570301031407624196  ...  Pacific Time (US & Canada)\n",
              "4  570300817074462722  ...  Pacific Time (US & Canada)\n",
              "\n",
              "[5 rows x 15 columns]"
            ]
          },
          "metadata": {
            "tags": []
          },
          "execution_count": 57
        }
      ]
    },
    {
      "cell_type": "code",
      "metadata": {
        "id": "U5cE2TmZtqM3",
        "colab_type": "code",
        "colab": {
          "base_uri": "https://localhost:8080/",
          "height": 34
        },
        "outputId": "b3c60175-88ba-4426-f24a-63f79e204a3e"
      },
      "source": [
        "# Size of the dataset\n",
        "df.shape"
      ],
      "execution_count": 58,
      "outputs": [
        {
          "output_type": "execute_result",
          "data": {
            "text/plain": [
              "(14640, 15)"
            ]
          },
          "metadata": {
            "tags": []
          },
          "execution_count": 58
        }
      ]
    },
    {
      "cell_type": "code",
      "metadata": {
        "id": "6ldu8N_BtqM5",
        "colab_type": "code",
        "colab": {
          "base_uri": "https://localhost:8080/",
          "height": 289
        },
        "outputId": "38ed4821-fbdc-4716-c2f0-12055092814e"
      },
      "source": [
        "# List column names and type of data in each column\n",
        "df.dtypes"
      ],
      "execution_count": 59,
      "outputs": [
        {
          "output_type": "execute_result",
          "data": {
            "text/plain": [
              "tweet_id                          int64\n",
              "airline_sentiment                object\n",
              "airline_sentiment_confidence    float64\n",
              "negativereason                   object\n",
              "negativereason_confidence       float64\n",
              "airline                          object\n",
              "airline_sentiment_gold           object\n",
              "name                             object\n",
              "negativereason_gold              object\n",
              "retweet_count                     int64\n",
              "text                             object\n",
              "tweet_coord                      object\n",
              "tweet_created                    object\n",
              "tweet_location                   object\n",
              "user_timezone                    object\n",
              "dtype: object"
            ]
          },
          "metadata": {
            "tags": []
          },
          "execution_count": 59
        }
      ]
    },
    {
      "cell_type": "code",
      "metadata": {
        "id": "wvKRs_Or1KCa",
        "colab_type": "code",
        "colab": {
          "base_uri": "https://localhost:8080/",
          "height": 51
        },
        "outputId": "46a94ac4-7211-4d69-98b5-9b398f2d4630"
      },
      "source": [
        "# For sentiment analysis of the tweet, we need the text only. Let's have a look at one example\n",
        "pd.options.display.max_colwidth = 100\n",
        "df[\"text\"][df[\"tweet_id\"] == 569987622484848640]"
      ],
      "execution_count": 60,
      "outputs": [
        {
          "output_type": "execute_result",
          "data": {
            "text/plain": [
              "62    @VirginAmerica @ladygaga @carrieunderwood all are great , but I have to go with #CarrieUnderwood 😍👌\n",
              "Name: text, dtype: object"
            ]
          },
          "metadata": {
            "tags": []
          },
          "execution_count": 60
        }
      ]
    },
    {
      "cell_type": "code",
      "metadata": {
        "id": "t6tl_3G1Eqe2",
        "colab_type": "code",
        "colab": {
          "base_uri": "https://localhost:8080/",
          "height": 111
        },
        "outputId": "2fe75844-e486-4e56-970e-ac2108642f37"
      },
      "source": [
        "# Let's define a reduced dataframe with only the columns with the text of the tweets and the label in airline_sentiment \n",
        "df_sent = df.copy()\n",
        "df_sent = df_sent[[\"airline_sentiment\",\"text\"]]\n",
        "df_sent = df_sent.rename(columns={\"airline_sentiment\":\"label\"})\n",
        "df_sent.head(2)\n",
        "                      "
      ],
      "execution_count": 70,
      "outputs": [
        {
          "output_type": "execute_result",
          "data": {
            "text/html": [
              "<div>\n",
              "<style scoped>\n",
              "    .dataframe tbody tr th:only-of-type {\n",
              "        vertical-align: middle;\n",
              "    }\n",
              "\n",
              "    .dataframe tbody tr th {\n",
              "        vertical-align: top;\n",
              "    }\n",
              "\n",
              "    .dataframe thead th {\n",
              "        text-align: right;\n",
              "    }\n",
              "</style>\n",
              "<table border=\"1\" class=\"dataframe\">\n",
              "  <thead>\n",
              "    <tr style=\"text-align: right;\">\n",
              "      <th></th>\n",
              "      <th>label</th>\n",
              "      <th>text</th>\n",
              "    </tr>\n",
              "  </thead>\n",
              "  <tbody>\n",
              "    <tr>\n",
              "      <th>0</th>\n",
              "      <td>neutral</td>\n",
              "      <td>@VirginAmerica What @dhepburn said.</td>\n",
              "    </tr>\n",
              "    <tr>\n",
              "      <th>1</th>\n",
              "      <td>positive</td>\n",
              "      <td>@VirginAmerica plus you've added commercials to the experience... tacky.</td>\n",
              "    </tr>\n",
              "  </tbody>\n",
              "</table>\n",
              "</div>"
            ],
            "text/plain": [
              "      label                                                                      text\n",
              "0   neutral                                       @VirginAmerica What @dhepburn said.\n",
              "1  positive  @VirginAmerica plus you've added commercials to the experience... tacky."
            ]
          },
          "metadata": {
            "tags": []
          },
          "execution_count": 70
        }
      ]
    },
    {
      "cell_type": "code",
      "metadata": {
        "id": "8tD2eiRqLYU_",
        "colab_type": "code",
        "colab": {
          "base_uri": "https://localhost:8080/",
          "height": 85
        },
        "outputId": "f59953d2-4d63-4617-a47b-9c668d50e3f9"
      },
      "source": [
        "df_sent[\"label\"].value_counts()"
      ],
      "execution_count": 71,
      "outputs": [
        {
          "output_type": "execute_result",
          "data": {
            "text/plain": [
              "negative    9178\n",
              "neutral     3099\n",
              "positive    2363\n",
              "Name: label, dtype: int64"
            ]
          },
          "metadata": {
            "tags": []
          },
          "execution_count": 71
        }
      ]
    },
    {
      "cell_type": "code",
      "metadata": {
        "id": "5ncHq82FNucG",
        "colab_type": "code",
        "colab": {}
      },
      "source": [
        "da_train = df_sent.sample(frac = 0.9, random_state= 23)\n",
        "da_test = df_sent.drop(da_train.index)"
      ],
      "execution_count": 72,
      "outputs": []
    },
    {
      "cell_type": "code",
      "metadata": {
        "id": "6tTUHLm2OLNR",
        "colab_type": "code",
        "colab": {
          "base_uri": "https://localhost:8080/",
          "height": 142
        },
        "outputId": "6210ab97-6862-4433-c1a8-a93dfab6e823"
      },
      "source": [
        "da_summary = pd.DataFrame((100*df_sent[\"label\"].value_counts()/len(df_sent)).round(2))\n",
        "da_summary[\"train[%]\"] = (100*da_train[\"label\"].value_counts()/len(da_train)).round(2)\n",
        "da_summary[\"test[%]\"] = (100*da_test[\"label\"].value_counts()/len(da_test)).round(2)\n",
        "da_summary = da_summary.rename(columns = {\"label\" : \"original[%]\"})\n",
        "da_summary"
      ],
      "execution_count": 75,
      "outputs": [
        {
          "output_type": "execute_result",
          "data": {
            "text/html": [
              "<div>\n",
              "<style scoped>\n",
              "    .dataframe tbody tr th:only-of-type {\n",
              "        vertical-align: middle;\n",
              "    }\n",
              "\n",
              "    .dataframe tbody tr th {\n",
              "        vertical-align: top;\n",
              "    }\n",
              "\n",
              "    .dataframe thead th {\n",
              "        text-align: right;\n",
              "    }\n",
              "</style>\n",
              "<table border=\"1\" class=\"dataframe\">\n",
              "  <thead>\n",
              "    <tr style=\"text-align: right;\">\n",
              "      <th></th>\n",
              "      <th>original[%]</th>\n",
              "      <th>train[%]</th>\n",
              "      <th>test[%]</th>\n",
              "    </tr>\n",
              "  </thead>\n",
              "  <tbody>\n",
              "    <tr>\n",
              "      <th>negative</th>\n",
              "      <td>62.69</td>\n",
              "      <td>62.88</td>\n",
              "      <td>61.00</td>\n",
              "    </tr>\n",
              "    <tr>\n",
              "      <th>neutral</th>\n",
              "      <td>21.17</td>\n",
              "      <td>21.01</td>\n",
              "      <td>22.61</td>\n",
              "    </tr>\n",
              "    <tr>\n",
              "      <th>positive</th>\n",
              "      <td>16.14</td>\n",
              "      <td>16.11</td>\n",
              "      <td>16.39</td>\n",
              "    </tr>\n",
              "  </tbody>\n",
              "</table>\n",
              "</div>"
            ],
            "text/plain": [
              "          original[%]  train[%]  test[%]\n",
              "negative        62.69     62.88    61.00\n",
              "neutral         21.17     21.01    22.61\n",
              "positive        16.14     16.11    16.39"
            ]
          },
          "metadata": {
            "tags": []
          },
          "execution_count": 75
        }
      ]
    },
    {
      "cell_type": "markdown",
      "metadata": {
        "id": "LML74wFrtqM9",
        "colab_type": "text"
      },
      "source": [
        "## Universal Language Model Fine Tunning (ULMFiT) application"
      ]
    },
    {
      "cell_type": "code",
      "metadata": {
        "id": "I5a6Wf_g10Wc",
        "colab_type": "code",
        "colab": {}
      },
      "source": [
        "# Text in the tweet is one line long. Some text contain emojis, tags and possible spellimg mistakes. \n",
        "# They contain informal phraising too. \n",
        "# So first fine-tuning will be done on a social media corpus rather on the wikitext one."
      ],
      "execution_count": 76,
      "outputs": []
    },
    {
      "cell_type": "code",
      "metadata": {
        "id": "l5iO1RYKBsVV",
        "colab_type": "code",
        "colab": {
          "base_uri": "https://localhost:8080/",
          "height": 17
        },
        "outputId": "dbf37bac-a114-466c-e5fd-6d4972e8a402"
      },
      "source": [
        "data_lm = TextLMDataBunch.from_df(train_df = da_train, valid_df = da_train, path = folder)\n",
        "data_lm.save('data_lm.pkl')"
      ],
      "execution_count": 77,
      "outputs": [
        {
          "output_type": "display_data",
          "data": {
            "text/html": [
              ""
            ],
            "text/plain": [
              "<IPython.core.display.HTML object>"
            ]
          },
          "metadata": {
            "tags": []
          }
        },
        {
          "output_type": "display_data",
          "data": {
            "text/html": [
              ""
            ],
            "text/plain": [
              "<IPython.core.display.HTML object>"
            ]
          },
          "metadata": {
            "tags": []
          }
        }
      ]
    },
    {
      "cell_type": "code",
      "metadata": {
        "id": "ycMQaqYVRZt8",
        "colab_type": "code",
        "colab": {}
      },
      "source": [
        "bs = 48\n",
        "data_lm = load_data(folder, 'data_lm.pkl', bs=bs)"
      ],
      "execution_count": 78,
      "outputs": []
    },
    {
      "cell_type": "code",
      "metadata": {
        "id": "qWE0iZ1DW6GT",
        "colab_type": "code",
        "colab": {
          "base_uri": "https://localhost:8080/",
          "height": 289
        },
        "outputId": "7232aff6-8dc9-4617-f35d-37918d927f28"
      },
      "source": [
        "data_lm.show_batch()"
      ],
      "execution_count": 79,
      "outputs": [
        {
          "output_type": "display_data",
          "data": {
            "text/html": [
              "<table border=\"1\" class=\"dataframe\">\n",
              "  <thead>\n",
              "    <tr style=\"text-align: right;\">\n",
              "      <th>idx</th>\n",
              "      <th>text</th>\n",
              "    </tr>\n",
              "  </thead>\n",
              "  <tbody>\n",
              "    <tr>\n",
              "      <td>0</td>\n",
              "      <td>cheese xxunk and xxunk of entertainment options . xxmaj time just flew by . xxbos @southwestair just announced non - stop flights to xxmaj dallas from xxmaj columbus . xxmaj well next time xxunk best you 'll have less time airport xxunk 😂 😂 xxbos @united xxup thank u ! xxmaj secured room for the night xxmaj thx to xxup very helpful customer service rep xxup n. xxmaj xxunk ..</td>\n",
              "    </tr>\n",
              "    <tr>\n",
              "      <td>1</td>\n",
              "      <td>numbers auto rebooked flights to non connecting cities xxbos @united do n't see a xxunk cost to get on an early flight with seats . xxmaj no airline charges to conveniently get their passengers in early xxbos @southwestair xxmaj are there discounts every tuesday cause i m leaving fron xxmaj birmingham xxmaj airport to xxmaj san fran xxmaj next week in march sometime xxbos @jetblue i cheated on you ,</td>\n",
              "    </tr>\n",
              "    <tr>\n",
              "      <td>2</td>\n",
              "      <td>houston until tomorrow morning . pretty sure overflight xxmaj booking xxmaj problems and maintenance are n't our fault . xxbos @usairways i was completely ripped of by xxup us xxmaj airways today never fly this airline i am contacting my local news xxbos @southwestair it 's not disappointment , it 's a blatant disregard for your business select customers , it 's becoming a problem that 's pushing xxbos @jetblue</td>\n",
              "    </tr>\n",
              "    <tr>\n",
              "      <td>3</td>\n",
              "      <td>rebook , but wondering if there will be other issues getting out . xxbos @united xxmaj so excited i was put on an earlier flight to get home ! xxmaj woo xxmaj hoo ! # travel 🎉 🎉 🎉 xxbos @southwestair xxmaj twitter says i ca n't xxup dm someone unless they follow me . xxmaj can @southwestair follows my twitter ? thanks you . xxbos @americanair xxmaj somehow between</td>\n",
              "    </tr>\n",
              "    <tr>\n",
              "      <td>4</td>\n",
              "      <td>the accounts is denied xxbos @southwestair xxmaj tough i can take . xxmaj zero meaningful assistance while stranded for 2 days is another matter . xxmaj looking for signs you care abt cust . xxbos @jetblue xxmaj flight i want to book was $ 320 one day ; went to purchase next day &amp; &amp; price xxunk to $ 737 . xxmaj xxunk on chance it may go down ?</td>\n",
              "    </tr>\n",
              "  </tbody>\n",
              "</table>"
            ],
            "text/plain": [
              "<IPython.core.display.HTML object>"
            ]
          },
          "metadata": {
            "tags": []
          }
        }
      ]
    },
    {
      "cell_type": "code",
      "metadata": {
        "id": "WwtA3pUQdcul",
        "colab_type": "code",
        "colab": {
          "base_uri": "https://localhost:8080/",
          "height": 34
        },
        "outputId": "90be700c-1f09-4da2-b2ee-adb60987f239"
      },
      "source": [
        "# Number of words in the vocabulary data_lm\n",
        "len(data_lm.vocab.itos)"
      ],
      "execution_count": 84,
      "outputs": [
        {
          "output_type": "execute_result",
          "data": {
            "text/plain": [
              "6312"
            ]
          },
          "metadata": {
            "tags": []
          },
          "execution_count": 84
        }
      ]
    },
    {
      "cell_type": "markdown",
      "metadata": {
        "id": "WbXYMXDltqM9",
        "colab_type": "text"
      },
      "source": [
        "### General-domain LM pretraining"
      ]
    },
    {
      "cell_type": "markdown",
      "metadata": {
        "id": "9onkxBpbtqM-",
        "colab_type": "text"
      },
      "source": [
        "### Target task LM fine-tuning"
      ]
    },
    {
      "cell_type": "markdown",
      "metadata": {
        "id": "sFvF4EiutqM-",
        "colab_type": "text"
      },
      "source": [
        "### Target task classifier fine-tuning"
      ]
    },
    {
      "cell_type": "markdown",
      "metadata": {
        "id": "-13CO5q9tqM_",
        "colab_type": "text"
      },
      "source": [
        "## Analysis of results"
      ]
    },
    {
      "cell_type": "markdown",
      "metadata": {
        "id": "SE-NKoHatqM_",
        "colab_type": "text"
      },
      "source": [
        "## Conclusions"
      ]
    },
    {
      "cell_type": "code",
      "metadata": {
        "id": "XvKtuVq-tqNA",
        "colab_type": "code",
        "colab": {}
      },
      "source": [
        ""
      ],
      "execution_count": null,
      "outputs": []
    }
  ]
}